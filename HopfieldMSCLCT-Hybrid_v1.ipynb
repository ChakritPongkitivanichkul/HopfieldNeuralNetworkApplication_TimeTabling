{
 "cells": [
  {
   "cell_type": "markdown",
   "id": "4c52eb87",
   "metadata": {},
   "source": [
    "# <font color='green'>**Hopfield Neural Network on Multiple Section Class-Lab-Class-Teacher Problem**</font>\n",
    "\n",
    "\n",
    "\n",
    "---\n",
    "\n",
    "by Chakrit, Pimpunyawat, Rapeepan\n",
    "\n",
    "---\n",
    "September 2024"
   ]
  },
  {
   "cell_type": "markdown",
   "id": "7e364d8c",
   "metadata": {},
   "source": [
    "\n",
    "\n",
    "---\n",
    "\n",
    "\n",
    "---\n",
    "\n",
    "\n",
    "The basic concept is the following\n",
    "\n",
    "\n",
    "---\n",
    "\n",
    "\n",
    "**Set up**\n",
    "\n",
    "The states are labeled by $u_{\\alpha jk}$ \n",
    "where $\\alpha$ indicates the multiple section class $\\alpha^{\\rm th}$ for $\\alpha = 1,\\ldots, L'$ and lab $\\alpha^{\\rm th}$ for $\\alpha = L'+1,\\ldots, L$ and the class for  $\\alpha = L+1,\\ldots, L+C$, \n",
    "$j$ indicates the teacher $j^{\\rm th}$ \n",
    "and $k$ indicates the period $k^{\\rm th}$\n",
    "\n",
    "The activation function is discrete, i.e., $v_{\\alpha jk} = g(u_{\\alpha jk})$ where\n",
    "$v_{\\alpha jk} = 0$ when $u_{\\alpha jk} \\leq 0$ and $v_{\\alpha jk} = 1$ when $u_{\\alpha jk} > 0$\n",
    "\n",
    "The energy function is written in terms of the activation output + external output with a weighted matrix as follow:\n",
    "\n",
    "$E = -\\frac{1}{2}\\sum\\limits_{\\alpha,j,k,\\alpha',j',k'} W_{\\alpha'j'k'\\alpha jk}v_{\\alpha 'j'k'}v_{\\alpha jk} - \\sum\\limits_{\\alpha jk}I_{\\alpha jk}v_{\\alpha jk}$\n",
    "\n",
    "---\n",
    "\n",
    "**Constraints**\n",
    "\n",
    "**Multiple Section Class and Lab Constraints**\n",
    "\n",
    "The constraints for Multiple Section Class and Lab $\\alpha^{\\rm th}$ for $\\alpha = 1,\\ldots, L', \\ldots, L$ are the following:\n",
    "\n",
    "$\\sum\\limits_{k=1}^{P} v_{\\alpha jk} = L_{\\alpha j}$: The requirement from school that for the j$^{\\rm th}$ teacher should teach $L_{\\alpha j}$ times for the $\\alpha^{\\rm th}$ class/lab.\n",
    "\n",
    "$\\sum\\limits_{j=1}^{T} v_{\\alpha jk} = n_{\\alpha} M_{\\alpha k}$: The requirement that $n_{\\alpha}$ teachers teach the same class/lab at the same time, where $M_{\\alpha k}$ is 1 for the period $k$ that the class/lab take place and 0 for the period with no class/lab.\n",
    "\n",
    "**Class Constraints**\n",
    "\n",
    "The constraints for Class $\\alpha^{\\rm th}$ for $\\alpha = L+1,\\ldots, L+C$ are the following:\n",
    "\n",
    "$\\sum\\limits_{k=1}^{P} v_{\\alpha jk} = R_{\\alpha j}$: The requirement from school that for the j$^{\\rm th}$ teacher should teach $R_{\\alpha j}$ times for the $\\alpha^{\\rm th}$ class.\n",
    "\n",
    "$\\sum\\limits_{j=1}^{T} v_{\\alpha jk} \\leq 1$: The requirement that no 2 teachers teach the same class at the same time.\n",
    "\n",
    "**Combined Constraints**\n",
    "\n",
    "The constraints for both Class and Lab $\\alpha^{\\rm th}$ for $\\alpha = 1,\\ldots, L+C$ are the following:\n",
    "\n",
    "$\\sum\\limits_{\\alpha=1}^{L+C} v_{\\alpha jk} \\leq 1$: The requirement that no 2 labs and/or classes were taught by the same teacher at the same time.\n",
    "\n",
    "---\n",
    "\n",
    "From the energy term:\n",
    "\n",
    "$E = \\frac{A}{2}\\sum\\limits_{\\alpha=1}^L \\sum\\limits_j^T \\left(\\sum\\limits_k^P v_{\\alpha jk} - L_{\\alpha j}\\right)^2 + \\frac{B}{2}\\sum\\limits_{\\alpha=1}^L \\sum\\limits_k^P \\left( \\sum\\limits_j^T v_{\\alpha jk} - n_{\\alpha} M_{\\alpha k} \\right)^2$ \n",
    "\n",
    "$\\qquad + \\frac{D}{2}\\sum\\limits_{\\alpha=L+1}^{L+C} \\sum\\limits_j^T \\left( \\sum\\limits_k^P v_{\\alpha jk} - R_{\\alpha j} \\right)^2 + \\frac{F}{2}\\sum\\limits_{\\alpha=L+1}^{L+C} \\sum\\limits_j^T \\sum\\limits_k^P \\sum\\limits_{j'\\neq j}^T v_{\\alpha jk} v_{\\alpha j'k}$ \n",
    "\n",
    "$\\qquad + \\frac{G}{2}\\sum\\limits_{\\alpha=1}^{L+C} \\sum\\limits_j^T \\sum\\limits_k^P \\sum\\limits_{\\alpha'\\neq \\alpha = 1}^{L+C} v_{\\alpha jk} v_{\\alpha'jk}$\n",
    "\n",
    "---\n",
    "\n",
    "Writing in the quadratic form, we get\n",
    "\n",
    "$E = -\\frac{1}{2}\\sum\\limits_{\\alpha'=1}^{L} \\sum\\limits_{\\alpha=1}^{L} \\sum\\limits_j^T \\sum\\limits_{j'}^T \\sum\\limits_k^P \\sum\\limits_{k'}^P W^{(L)}_{\\alpha'j'k'\\alpha jk} v_{\\alpha'j'k'} v_{\\alpha jk} -\\frac{1}{2}\\sum\\limits_{\\alpha'=L+1}^{L+C} \\sum\\limits_{\\alpha=L+1}^{L+C} \\sum\\limits_j^T \\sum\\limits_{j'}^T \\sum\\limits_k^P \\sum\\limits_{k'}^P W^{(C)}_{\\alpha'j'k'\\alpha jk} v_{\\alpha'j'k'} v_{\\alpha jk}$\n",
    "\n",
    "$\\qquad -\\frac{1}{2}\\sum\\limits_{\\alpha'=1}^{L+C} \\sum\\limits_{\\alpha=1}^{L+C} \\sum\\limits_j^T \\sum\\limits_{j'}^T \\sum\\limits_k^P \\sum\\limits_{k'}^P W^{(L+C)}_{\\alpha'j'k'\\alpha jk} v_{\\alpha'j'k'} v_{\\alpha jk} - \\sum\\limits_{\\alpha=1}^{L} \\sum\\limits_k^P \\sum\\limits_j^T I_{\\alpha jk}^{(L)} v_{\\alpha jk} - \\sum\\limits_{\\alpha=L+1}^{L+C} \\sum\\limits_k^P \\sum\\limits_j^T I_{\\alpha jk}^{(C)} v_{\\alpha jk}$.\n",
    "\n",
    "The weights can be derived as\n",
    "\n",
    "$W^{(L)}_{\\alpha'j'k'\\alpha jk} = -A\\delta_{\\alpha'\\alpha}\\delta_{j'j} - B\\delta_{\\alpha'\\alpha}\\delta_{k'k}, \\quad {\\rm where} \\quad \\alpha,\\alpha' = 1,\\ldots,L$\n",
    "\n",
    "$W^{(C)}_{\\alpha'j'k'\\alpha jk} = -D\\delta_{\\alpha'\\alpha}\\delta_{j'j} - F\\left(1-\\delta_{j'j}\\right)\\delta_{\\alpha'\\alpha}\\delta_{k'k}, \\quad {\\rm where} \\quad \\alpha,\\alpha' = L+1,\\ldots,L+C$\n",
    "\n",
    "$W^{(L+C)}_{\\alpha'j'k'\\alpha jk} = -G\\left(1-\\delta_{\\alpha'\\alpha}\\right)\\delta_{j'j}\\delta_{k'k}, \\quad {\\rm where} \\quad \\alpha,\\alpha' = 1,\\ldots,L+C$\n",
    "\n",
    "The bias can be derived as\n",
    "\n",
    "$I_{\\alpha jk}^{(L)} = A L_{\\alpha j} + B n_{\\alpha} M_{\\alpha k},\\quad {\\rm where} \\quad \\alpha = 1,\\ldots,L$\n",
    "\n",
    "$I_{\\alpha jk}^{(C)} = D R_{\\alpha j},\\quad {\\rm where} \\quad \\alpha = L+1,\\ldots,L+C$"
   ]
  },
  {
   "cell_type": "markdown",
   "id": "ed10b074",
   "metadata": {},
   "source": [
    "---\n",
    "\n",
    "**First Step Optimization (Twice)**\n",
    "\n",
    "---\n",
    "\n",
    "Similar to the previous case, the constraint on $L_{\\alpha j}$ and $M_{\\alpha k}$ can be dealt with the first step optimization. However the multiple section class and lab optimization will be optimized differently.\n",
    "\n",
    "The constraint is\n",
    "\n",
    "$\\sum\\limits_j^T L_{\\alpha j} = \\sum\\limits_k^T n_{\\alpha} M_{\\alpha k}$, for $\\alpha = 1, \\ldots, L', \\ldots, L$\n",
    "\n",
    "For $\\alpha = 1, \\ldots, L'$, the input is $L_{\\alpha j}$ and $n_{\\alpha}$ and the energy is written as\n",
    "\n",
    "$E = \\frac{A'}{2}\\sum\\limits_{\\alpha=1}^L' \\left(\\sum\\limits_{k}^P n_{\\alpha} M_{\\alpha k} - \\sum\\limits_{j}^T L_{\\alpha j} \\right)^2 = -\\frac{1}{2}\\sum\\limits_{\\alpha=1}^L'\\sum\\limits_{\\alpha'=1}^L'\\sum\\limits_{k}^P\\sum\\limits_{k'}^P W_{\\alpha'k'\\alpha k} M_{\\alpha'k'} M_{\\alpha k} - \\sum\\limits_{\\alpha=1}^L'\\sum\\limits_{k}^P I_{\\alpha k}M_{\\alpha k}$\n",
    "\n",
    "where the weights and inputs are written as\n",
    "\n",
    "$W_{\\alpha'k'\\alpha k} = -2A'n_{\\alpha}^2 \\delta_{\\alpha\\alpha'},\\quad \\alpha, \\alpha' = 1,\\ldots, L'$\n",
    "\n",
    "$I_{\\alpha k} = 2A'n_{\\alpha} \\sum\\limits_{j}^T L_{\\alpha j}\\quad \\alpha = 1,\\ldots, L'$\n",
    "\n",
    "After the optimization we have\n",
    "\n",
    "$L_{\\alpha j}$ and $M_{\\alpha k}$ for $\\alpha = 1, \\ldots, L'$\n",
    "\n",
    "that satisfied the constraint.\n",
    "\n",
    "---\n",
    "---\n",
    "\n",
    "For $\\alpha = L'+1, \\ldots, L$, the input is $M_{\\alpha k}$ and $n_{\\alpha}$ and the energy is written as\n",
    "\n",
    "$E = \\frac{A''}{2}\\sum\\limits_{\\alpha = L'+1}^L \\left( \\sum\\limits_j^T L_{\\alpha j} - \\sum\\limits_k^T n_{\\alpha} M_{\\alpha k} \\right)^2 = -\\frac{1}{2}\\sum\\limits_{\\alpha = L'+1}^L\\sum\\limits_{\\alpha' = L'+1}^L\\sum\\limits_{j}^T\\sum\\limits_{j'}^T W_{\\alpha'j'\\alpha j} L_{\\alpha'j'}L_{\\alpha j} - \\sum\\limits_{\\alpha = L'+1}^L\\sum\\limits_{j}^T I_{\\alpha j} L_{\\alpha j}$,\n",
    "\n",
    "where\n",
    "\n",
    "$W_{\\alpha'j'\\alpha j} = -A''\\delta_{\\alpha'\\alpha},\\quad \\alpha, \\alpha' = L'+1,\\ldots, L$\n",
    "\n",
    "$I_{\\alpha j} = A'' \\sum\\limits_{k}^P n_{\\alpha} M_{\\alpha k}\\quad \\alpha = L'+1,\\ldots, L$\n",
    "\n",
    "After the optimization we have\n",
    "\n",
    "$L_{\\alpha j}$ and $M_{\\alpha k}$ for $\\alpha = L'+1, \\ldots, L$\n",
    "\n",
    "that satisfied the constraint.\n",
    "\n",
    "Combining the 2 ranges, we can then proceed to perform the main optimization steps."
   ]
  },
  {
   "cell_type": "code",
   "execution_count": 46,
   "id": "f0e5661c",
   "metadata": {},
   "outputs": [],
   "source": [
    "import numpy as np\n",
    "from functools import lru_cache\n",
    "import time"
   ]
  },
  {
   "cell_type": "code",
   "execution_count": 47,
   "id": "bff4652f",
   "metadata": {},
   "outputs": [],
   "source": [
    "class HopfieldMSCLCT:\n",
    "    \"\"\" Class for Hopfield Neural Network for Multiple Section Class-Lab-Class-Teacher Problem\"\"\"\n",
    "\n",
    "    def __init__(self,num_teacher,num_msclass,num_lab,num_class,num_period,L_input_msc,M_input_lab,n_array,R_input,A:float,B:float,G:float,D:float,F:float,lr=0.01,beta1=0.9,beta2=0.999,prev_state=None):\n",
    "        \"\"\" initialize \"\"\"\n",
    "        self.T = num_teacher\n",
    "        self.MSC = num_msclass\n",
    "        self.L = num_lab\n",
    "        self.P = num_period\n",
    "        self.C = num_class\n",
    "        self.n_array = n_array.reshape(self.MSC+self.L,1)\n",
    "        self.n_array_msc = self.n_array[:self.MSC]\n",
    "        self.n_array_L = self.n_array[self.MSC:self.L+self.MSC]\n",
    "        self.L_msc = L_input_msc\n",
    "        self.M_lab = M_input_lab\n",
    "        self.Raj = R_input\n",
    "        self.A = A\n",
    "        self.B = B\n",
    "        self.G = G\n",
    "        self.D = D\n",
    "        self.F = F\n",
    "        self.lr = lr\n",
    "        self.beta1 = beta1\n",
    "        self.beta2 = beta2\n",
    "        self.epsilon = 1e-8\n",
    "        ##### 1 and 0 matrices ######\n",
    "        self.delta_aa = np.eye(self.MSC + self.L + self.C)\n",
    "        self.delta_aa_MSC = np.eye(self.MSC)\n",
    "        self.delta_aa_L = np.eye(self.L)\n",
    "        self.delta_aa_C = np.eye(self.C)\n",
    "        self.delta_jj = np.eye(self.T)\n",
    "        self.delta_kk = np.eye(self.P)\n",
    "        self.one_aa = np.ones((self.L + self.C,self.L + self.C))\n",
    "        self.one_aa_MSC = np.ones((self.MSC, self.MSC))\n",
    "        self.one_aa_L = np.ones((self.L, self.L))\n",
    "        self.one_aa_C = np.ones((self.C, self.C))\n",
    "        self.one_jj = np.ones((self.T,self.T))\n",
    "        self.one_kk = np.ones((self.P,self.P))\n",
    "        self.one_k = np.ones(self.P)\n",
    "        self.one_j = np.ones(self.T)\n",
    "        ######### Initialization for Optimization of Requirement Matrix (MultiSectionClass) #########\n",
    "        self.PreW_MSC = -self.A*np.einsum('ab,kn->akbn',self.n_array_msc*self.n_array_msc*self.delta_aa_MSC,self.one_kk)\n",
    "        self.PreI_MSC = self.A*np.einsum('a,j->aj',(self.n_array_msc*self.L_msc).sum(1),self.one_k)\n",
    "        self.Mak_MSC = np.random.rand(self.MSC,self.P)\n",
    "        self.PreU_MSC = np.random.rand(self.MSC,self.P)-1\n",
    "        self.constraint_tag_MSC = 0\n",
    "        ########## Adam variables (moments) ###########\n",
    "        self.Prev_adam_MSC = np.zeros((self.MSC,self.P))\n",
    "        self.Prem_adam_MSC = np.zeros((self.MSC,self.P))\n",
    "        ######### Initialization for Optimization of Requirement Matrix (Lab) #########\n",
    "        self.PreW_L = -self.A*np.einsum('ab,jm->ajbm',self.delta_aa_L,self.one_jj)\n",
    "        self.PreI_L = self.A*np.einsum('a,j->aj',(self.n_array_L*self.M_lab).sum(1),self.one_j)\n",
    "        self.Laj_L = np.random.rand(self.L,self.T)\n",
    "        self.PreU_L = np.random.rand(self.L,self.T)-1\n",
    "        self.constraint_tag_L = 0\n",
    "        ########## Adam variables (moments) ###########\n",
    "        self.Prev_adam_L = np.zeros((self.L,self.T))\n",
    "        self.Prem_adam_L = np.zeros((self.L,self.T))\n",
    "        ##### Weight initialization #####\n",
    "        self.W = np.zeros((self.MSC + self.L + self.C, self.T, self.P, self.MSC + self.L + self.C , self.T, self.P))\n",
    "        ##### External input ######\n",
    "        self.Laj = np.concatenate((self.L_msc,self.Laj_L),axis=0)\n",
    "        self.Mak = np.concatenate((self.Mak_MSC,self.M_lab),axis=0)\n",
    "        self.I_L = self.A*np.einsum('aj,k->ajk',self.Laj,self.one_k) + self.B*np.einsum('ak,j->ajk',self.n_array*self.Mak,self.one_j)\n",
    "        self.I_C = self.D*np.einsum('aj,k->ajk',self.Raj,self.one_k)\n",
    "        self.I = np.concatenate((self.I_L,self.I_C),axis=0)\n",
    "        self.prev_state = prev_state\n",
    "        if self.prev_state is not None:\n",
    "            print(\"Loading from previous state.\")\n",
    "            self.u = prev_state['u']\n",
    "            self.v = prev_state['v']\n",
    "            self.Laj = prev_state['Laj']\n",
    "            self.Mak = prev_state['Mak']\n",
    "            self.I_L = self.A*np.einsum('aj,k->ajk',self.Laj,self.one_k) + self.B*np.einsum('ak,j->ajk',self.n_array*self.Mak,self.one_j)\n",
    "            self.I_C = self.D*np.einsum('aj,k->ajk',self.Raj,self.one_k)\n",
    "            self.I = np.concatenate((self.I_L,self.I_C),axis=0)\n",
    "        else:\n",
    "            self.u = np.random.rand(self.MSC+self.L+self.C,self.T,self.P)-1\n",
    "            self.v = np.zeros((self.MSC+self.L+self.C,self.T,self.P))\n",
    "            \n",
    "        ########## Adam variables (moments) ###########\n",
    "        self.v_adam = np.zeros((self.MSC+self.L+self.C,self.T,self.P))\n",
    "        self.m_adam = np.zeros((self.MSC+self.L+self.C,self.T,self.P))\n",
    "        self.t = 0\n",
    "        self.constraint_tag = 0\n",
    "\n",
    "    def resetPrestate_MSC(self):\n",
    "        self.constraint_tag_MSC = 0\n",
    "        self.PreU_MSC = np.random.rand(self.MSC,self.P)-1\n",
    "        self.Mak_MSC = np.random.rand(self.MSC,self.P)\n",
    "        self.Prev_adam_MSC = np.zeros((self.MSC,self.P))\n",
    "        self.Prem_adam_MSC = np.zeros((self.MSC,self.P))\n",
    "        \n",
    "    def resetPrestate_L(self):\n",
    "        self.constraint_tag_L = 0\n",
    "        self.PreU_L = np.random.rand(self.L,self.T)-1\n",
    "        self.Laj_L = np.random.rand(self.L,self.T)\n",
    "        self.Prev_adam_L = np.zeros((self.L,self.T))\n",
    "        self.Prem_adam_L = np.zeros((self.L,self.T))\n",
    "    \n",
    "    @lru_cache(maxsize=None) \n",
    "    def PreEnergy_MSC(self,M_tuple):\n",
    "        M_temp = np.array(M_tuple).reshape(self.MSC,self.P)\n",
    "        self.PreE_MSC = -1/2*np.einsum('ak,akbn,bn',M_temp,self.PreW_MSC,M_temp) - np.einsum('ak,ak',self.PreI_MSC,M_temp)\n",
    "        return(self.PreE_MSC)\n",
    "        \n",
    "    @lru_cache(maxsize=None) \n",
    "    def PreEnergy_L(self,L_tuple):\n",
    "        L_temp = np.array(L_tuple).reshape(self.L,self.T)\n",
    "        self.PreE_L = -1/2*np.einsum('aj,ajbl,bl',L_temp,self.PreW_L,L_temp) - np.einsum('aj,aj',self.PreI_L,L_temp)\n",
    "        return(self.PreE_L)\n",
    "\n",
    "    def PreActivationOutput(self,PreU_temp):\n",
    "        return(np.round(PreU_temp))\n",
    "\n",
    "    def PreUpdateState_MSC(self,PreU_temp,M_temp):\n",
    "        grad = (np.einsum('ajbl,aj -> bl',self.PreW_MSC,M_temp) + self.PreI_MSC)\n",
    "        self.t += 1\n",
    "        self.Prem_adam_MSC = self.beta1 * self.Prem_adam_MSC + (1 - self.beta1) * grad\n",
    "        self.Prev_adam_MSC = self.beta2 * self.Prev_adam_MSC + (1 - self.beta2) * grad**2\n",
    "        Prem_hat_MSC = self.Prem_adam_MSC / (1 - self.beta1 ** self.t)\n",
    "        Prev_hat_MSC = self.Prev_adam_MSC / (1 - self.beta2 ** self.t)\n",
    "        return(PreU_temp + self.lr * Prem_hat_MSC / (np.sqrt(Prev_hat_MSC) + self.epsilon))\n",
    "\n",
    "    def PreUpdateState_L(self,PreU_temp,L_temp):\n",
    "        grad = (np.einsum('ajbl,aj -> bl',self.PreW_L,L_temp) + self.PreI_L)\n",
    "        self.t += 1\n",
    "        self.Prem_adam_L = self.beta1 * self.Prem_adam_L + (1 - self.beta1) * grad\n",
    "        self.Prev_adam_L = self.beta2 * self.Prev_adam_L + (1 - self.beta2) * grad**2\n",
    "        Prem_hat_L = self.Prem_adam_L / (1 - self.beta1 ** self.t)\n",
    "        Prev_hat_L = self.Prev_adam_L / (1 - self.beta2 ** self.t)\n",
    "        return(PreU_temp + self.lr * Prem_hat_L / (np.sqrt(Prev_hat_L) + self.epsilon))\n",
    "\n",
    "    def OptimiseRequirement_MSC(self,num_steps:int):\n",
    "        self.resetPrestate_MSC()\n",
    "        self.Mak_MSC = self.PreActivationOutput(self.PreU_MSC)\n",
    "        PreU_temp = self.PreU_MSC\n",
    "        M_temp = self.Mak_MSC\n",
    "        for i in range(num_steps):\n",
    "            E1 = self.PreEnergy_MSC(tuple(self.Mak_MSC.flatten()))\n",
    "            PreU_temp = self.PreUpdateState_MSC(self.PreU_MSC,self.Mak_MSC)\n",
    "            M_temp = self.PreActivationOutput(PreU_temp)\n",
    "            E2 = self.PreEnergy_MSC(tuple(M_temp.flatten()))\n",
    "            if E2-E1 <= 0:\n",
    "                self.PreU_MSC = PreU_temp\n",
    "                self.Mak_MSC = M_temp\n",
    "            if E2 == E1:\n",
    "                sumL = self.L_msc.sum(1)\n",
    "                sumM = (self.n_array_msc*self.Mak_MSC).sum(1)\n",
    "                check = np.equal(sumL,sumM)\n",
    "                if np.all(check) == True:\n",
    "                    print('*******************************************************\\n')\n",
    "                    print('*******************  All is pass  *********************\\n')\n",
    "                    print('*******************************************************\\n')\n",
    "                    print('The solution is:')\n",
    "                    print('M = ',self.Mak_MSC)\n",
    "                    print('n = ',self.n_array_msc)\n",
    "                    self.Mak = np.concatenate((self.Mak_MSC,self.M_lab),axis=0)\n",
    "                    self.constraint_tag_MSC = 1\n",
    "                    break\n",
    "    \n",
    "    \n",
    "    def OptimiseRequirement_L(self,num_steps:int):\n",
    "        self.resetPrestate_L()\n",
    "        self.Laj_L = self.PreActivationOutput(self.PreU_L)\n",
    "        PreU_temp = self.PreU_L\n",
    "        L_temp = self.Laj_L\n",
    "        for i in range(num_steps):\n",
    "            E1 = self.PreEnergy_L(tuple(self.Laj_L.flatten()))\n",
    "            PreU_temp = self.PreUpdateState_L(self.PreU_L,self.Laj_L)\n",
    "            L_temp = self.PreActivationOutput(PreU_temp)\n",
    "            E2 = self.PreEnergy_L(tuple(L_temp.flatten()))\n",
    "            if E2-E1 <= 0:\n",
    "                self.PreU_L = PreU_temp\n",
    "                self.Laj_L = L_temp\n",
    "            if E2 == E1:\n",
    "                sumL = self.Laj_L.sum(1)\n",
    "                sumM = (self.n_array_L*self.M_lab).sum(1)\n",
    "                check = np.equal(sumL,sumM)\n",
    "                if np.all(check) == True:\n",
    "                    print('*******************************************************\\n')\n",
    "                    print('*******************  All is pass  *********************\\n')\n",
    "                    print('*******************************************************\\n')\n",
    "                    print('The solution is:')\n",
    "                    print('L = ',self.Laj_L)\n",
    "                    print('n = ',self.n_array_L)\n",
    "                    self.Laj = np.concatenate((self.L_msc,self.Laj_L),axis=0)\n",
    "                    self.constraint_tag_L = 1\n",
    "                    break\n",
    "\n",
    "    def WeightBiasConstruction(self):\n",
    "        \"\"\" Construct the weight and bias for the Lab + Class \"\"\"\n",
    "        #############################\n",
    "        #### Weight construction ####\n",
    "        #############################\n",
    "        self.W = np.transpose(self.W, (0,3,1,4,2,5)) ## Permute alpha alpha' next to each other\n",
    "        for a in range(self.MSC+self.L+self.C):\n",
    "            for ap in range(self.MSC+self.L+self.C):\n",
    "                if a == ap:\n",
    "                    if a < self.MSC+self.L:\n",
    "                        self.W[ap,a] = -self.A*np.einsum('jl,kn->jlkn',self.delta_jj,self.one_kk) - self.B*np.einsum('jl,kn->jlkn',self.one_jj,self.delta_kk)\n",
    "                    else:\n",
    "                        self.W[ap,a] = -self.D*np.einsum('jl,kn->jlkn',self.delta_jj,self.one_kk) - self.F*np.einsum('jl,kn->jlkn',1-self.delta_jj,self.delta_kk)\n",
    "        self.W += -self.G*np.einsum('ab,jl,kn->abjlkn',1-self.delta_aa,self.delta_jj,self.delta_kk) ## Add the combined part\n",
    "        self.W = np.transpose(self.W, (0,2,4,1,3,5)) ## Permute back\n",
    "        #############################\n",
    "        ##### Bias construction #####\n",
    "        #############################\n",
    "        self.Laj = np.concatenate((self.L_msc,self.Laj_L),axis=0)\n",
    "        self.Mak = np.concatenate((self.Mak_MSC,self.M_lab),axis=0)\n",
    "        self.I_L = self.A*np.einsum('aj,k->ajk',self.Laj,self.one_k) + self.B*np.einsum('ak,j->ajk',self.n_array*self.Mak,self.one_j)\n",
    "        self.I_C = self.D*np.einsum('aj,k->ajk',self.Raj,self.one_k)\n",
    "        self.I = np.concatenate((self.I_L,self.I_C),axis=0)\n",
    "                    \n",
    "    def resetstate(self):\n",
    "        self.constraint_tag = 0\n",
    "        if self.prev_state is not None:\n",
    "            print(\"Loading from previous state.\")\n",
    "            self.u = prev_state['u']\n",
    "            self.v = prev_state['v']\n",
    "            self.Laj = prev_state['Laj']\n",
    "            self.Mak = prev_state['Mak']\n",
    "            self.I_L = self.A*np.einsum('aj,k->ajk',self.Laj,self.one_k) + self.B*np.einsum('ak,j->ajk',self.n_array*self.Mak,self.one_j)\n",
    "            self.I_C = self.D*np.einsum('aj,k->ajk',self.Raj,self.one_k)\n",
    "            self.I = np.concatenate((self.I_L,self.I_C),axis=0)\n",
    "        else:\n",
    "            self.u = np.random.rand(self.MSC+self.L+self.C,self.T,self.P)-1\n",
    "            self.v = np.zeros((self.MSC+self.L+self.C,self.T,self.P))\n",
    "        self.v_adam = np.zeros((self.MSC+self.L+self.C,self.T,self.P))\n",
    "        self.m_adam = np.zeros((self.MSC+self.L+self.C,self.T,self.P))\n",
    "        self.WeightBiasConstruction()\n",
    "        self.t = 0\n",
    "    \n",
    "    @lru_cache(maxsize=None)\n",
    "    def Energy(self,v_tuple):\n",
    "        \"\"\" Calculate the energy \"\"\"\n",
    "        v_temp = np.array(v_tuple).reshape(self.MSC+self.L+self.C,self.T,self.P)\n",
    "        self.En = -1/2*np.einsum('aij,aijbkl,bkl',v_temp,self.W,v_temp,optimize=True) - np.einsum('aij,aij',self.I,v_temp,optimize=True)\n",
    "        return(self.En)\n",
    "\n",
    "    def ActivationOutput(self,u_temp):\n",
    "        \"\"\" Calculate the activation output \"\"\"\n",
    "        return np.heaviside(u_temp,np.zeros((self.MSC+self.L+self.C,self.T,self.P)))\n",
    "\n",
    "    def UpdateState(self,u_temp,v_temp):\n",
    "        \"\"\" Update the state of neuron for the next step \"\"\"\n",
    "        grad = np.einsum('aijbkl,aij->bkl',self.W,v_temp,optimize=True) + self.I\n",
    "        #grad = np.tensordot(self.W, v_temp, axes=([0, 1, 2], [0, 1, 2])) + self.I\n",
    "        self.t += 1\n",
    "        self.m_adam = self.beta1 * self.m_adam + (1 - self.beta1) * grad\n",
    "        self.v_adam = self.beta2 * self.v_adam + (1 - self.beta2) * grad**2\n",
    "        m_hat = self.m_adam / (1 - self.beta1 ** self.t)\n",
    "        v_hat = self.v_adam / (1 - self.beta2 ** self.t)\n",
    "        return(u_temp + self.lr * m_hat / (np.sqrt(v_hat) + self.epsilon))\n",
    "    \n",
    "    def Check(self):\n",
    "        v_lab = self.v[:self.MSC+self.L]\n",
    "        v_class = self.v[self.MSC+self.L:]\n",
    "        sumI =  np.sum(self.v , 0)  # Sum over all labs\n",
    "        sumJ_L  =  np.sum(v_lab , 1) # Sum over all teachers for labs\n",
    "        sumK_L =  np.sum(v_lab , 2) # Sum over all periods for labs\n",
    "        sumJ_C = np.sum(v_class, 1) # Sum over all teachers for classes\n",
    "        sumK_C = np.sum(v_class, 2) # Sum over all periods for classes\n",
    "        checkColumn = np.less_equal(sumI,np.ones((self.T,self.P))) # The requirement that no 2 labs were taught by the same teacher at the same time.\n",
    "        checkrow_L = np.equal(sumJ_L,self.n_array*self.Mak) # The requirement that the correct number of teachers is assigned into a given period.\n",
    "        checkK_L = np.equal(sumK_L,self.Laj) # The requirement from school that for the jth teacher should teach Laj times for the ath lab.\n",
    "        checkrow_C = np.less_equal(sumJ_C,np.ones((self.C,self.P)))\n",
    "        checkK_C = np.equal(sumK_C,self.Raj)\n",
    "        if(np.all(checkColumn) == True and np.all(checkrow_L) == True and np.all(checkK_L) == True and np.all(checkrow_C) == True and np.all(checkK_C) == True):\n",
    "            print('*******************************************************\\n')\n",
    "            print('*******************  All is pass  *********************\\n')\n",
    "            print('*******************************************************\\n') \n",
    "            print('Comparing constraints (Column)\\n',checkColumn)\n",
    "            print('Comparing constraints (L)\\n',checkK_L)\n",
    "            print('Comparing constraints (row)\\n',checkrow_L)\n",
    "            print('Comparing constraints (R)\\n',checkK_C)\n",
    "            print('Comparing constraints (row)\\n',checkrow_C)\n",
    "            print('Laj: ',self.Laj)\n",
    "            print('Raj: ',self.Raj)\n",
    "            print('Sum i: ',sumI)\n",
    "            print('Sum j lab: ',sumJ_L)\n",
    "            print('Sum k lab: ',sumK_L)\n",
    "            print('Sum j lab: ',sumJ_C)\n",
    "            print('Sum k lab: ',sumK_C)\n",
    "            print('The state is:',self.v)\n",
    "            self.constraint_tag = 1\n",
    "        \n",
    "    def AdamOptimizer(self, num_steps: int):\n",
    "        self.resetstate()\n",
    "        energy_history = []\n",
    "        best_energy = float('inf')\n",
    "        best_solution = None\n",
    "        self.v = self.ActivationOutput(self.u) # fist time activation\n",
    "        for step in range(num_steps):\n",
    "            E1 = self.Energy(tuple(self.v.flatten()))\n",
    "            u_temp = self.UpdateState(self.u, self.v)\n",
    "            v_temp = self.ActivationOutput(u_temp)\n",
    "            E2 = self.Energy(tuple(v_temp.flatten()))\n",
    "            energy_history.append(E2)\n",
    "            \n",
    "            if E2 < best_energy:\n",
    "                best_energy = E2\n",
    "                best_solution = u_temp\n",
    "            \n",
    "            if E2 - E1 <= 0:\n",
    "                self.u = u_temp\n",
    "                self.v = v_temp\n",
    "                \n",
    "            # Early exit if the energy does not improve for several iterations\n",
    "            if step > 10 and np.all(np.abs(np.diff(energy_history[-10:])) < 1e-10):\n",
    "                self.Check()\n",
    "                if(self.constraint_tag == 1):\n",
    "                    break\n",
    "        \n",
    "        return energy_history, best_solution, best_energy\n",
    "\n",
    "    def TabuSearch(self, num_steps: int, tabu_size=5):\n",
    "\n",
    "        self.resetstate()\n",
    "        self.v = self.ActivationOutput(self.u)  # Initial activation\n",
    "        current_u = self.u\n",
    "        current_energy = self.Energy(tuple(self.v.flatten()))  # Calculate initial energy\n",
    "        best_u = current_u\n",
    "        best_energy = current_energy\n",
    "        tabu_list = []\n",
    "\n",
    "        energy_history = [current_energy]\n",
    "\n",
    "        for step in range(num_steps):\n",
    "            # Generate neighbors (small random perturbations)\n",
    "            neighbors = [current_u + np.random.normal(0, 0.1, size=self.u.shape) for _ in range(10)]\n",
    "\n",
    "            # Evaluate the energy of each neighbor\n",
    "            neighbor_energies = [self.Energy(tuple(self.ActivationOutput(neighbor).flatten())) for neighbor in neighbors]\n",
    "\n",
    "            # Select the best neighbor that is not in the tabu list\n",
    "            best_neighbor = None\n",
    "            best_neighbor_energy = float('inf')\n",
    "            for neighbor, energy in zip(neighbors, neighbor_energies):\n",
    "                \n",
    "                is_in_tabu = any(np.array_equal(neighbor, tabu_u) for tabu_u in tabu_list)\n",
    "                \n",
    "                if energy < best_neighbor_energy and not is_in_tabu:\n",
    "                    best_neighbor = neighbor\n",
    "                    best_neighbor_energy = energy\n",
    "\n",
    "            # Move to the best neighbor and update the tabu list\n",
    "            current_u = best_neighbor\n",
    "            current_energy = best_neighbor_energy\n",
    "            self.u = current_u\n",
    "            self.v = self.ActivationOutput(current_u)\n",
    "\n",
    "            # Add current_u to the tabu list and maintain the tabu list size\n",
    "            tabu_list.append(current_u)\n",
    "            if len(tabu_list) > tabu_size:\n",
    "                tabu_list.pop(0)  # Remove the oldest entry\n",
    "\n",
    "            # Track the best solution found so far\n",
    "            if current_energy < best_energy:\n",
    "                best_u = current_u\n",
    "                best_energy = current_energy\n",
    "\n",
    "            energy_history.append(current_energy)\n",
    "\n",
    "            # Early exit if the energy does not improve for several iterations\n",
    "            if step > 10 and np.all(np.abs(np.diff(energy_history[-10:])) < 1e-10):\n",
    "                self.v = self.ActivationOutput(best_u)\n",
    "                self.Check()\n",
    "                if(self.constraint_tag == 1):\n",
    "                    break\n",
    "\n",
    "        return energy_history, best_u, best_energy\n",
    "\n",
    "    def GeneticAlgorithm(self, num_steps: int, population_size=100, mutation_rate=0.8):\n",
    "        \n",
    "        # Reset the state\n",
    "        self.resetstate()\n",
    "        \n",
    "        # Initialize population\n",
    "        population = [self.u + np.random.normal(0, 0.1, size=self.u.shape) for _ in range(population_size)]\n",
    "\n",
    "        # Evaluate initial population\n",
    "        energies = [self.Energy(tuple(self.ActivationOutput(individual).flatten())) for individual in population]\n",
    "\n",
    "        energy_history = [min(energies)]\n",
    "        best_individual = population[np.argmin(energies)]\n",
    "        best_energy = min(energies)\n",
    "\n",
    "        for step in range(num_steps):\n",
    "            # Select the best individuals for crossover (elitism)\n",
    "            sorted_indices = np.argsort(energies)\n",
    "            selected_population = [population[i] for i in sorted_indices[:population_size//2]]\n",
    "\n",
    "            # Crossover: Generate new individuals by combining the top individuals\n",
    "            new_population = []\n",
    "            for i in range(0, len(selected_population), 2):\n",
    "                parent1 = selected_population[i]\n",
    "                parent2 = selected_population[i + 1 if i + 1 < len(selected_population) else 0]\n",
    "                crossover_point = np.random.randint(self.u.size)  # Single-point crossover\n",
    "                child1 = np.concatenate((parent1.flatten()[:crossover_point], parent2.flatten()[crossover_point:])).reshape(self.u.shape)\n",
    "                child2 = np.concatenate((parent2.flatten()[:crossover_point], parent1.flatten()[crossover_point:])).reshape(self.u.shape)\n",
    "                new_population.append(child1)\n",
    "                new_population.append(child2)\n",
    "\n",
    "            # Mutation: Randomly mutate some individuals\n",
    "            for individual in new_population:\n",
    "                if np.random.rand() < mutation_rate:\n",
    "                    mutation = np.random.normal(0, 0.1, size=self.u.shape)\n",
    "                    individual += mutation\n",
    "\n",
    "            # Evaluate the new population\n",
    "            population = selected_population + new_population\n",
    "            energies = [self.Energy(tuple(self.ActivationOutput(individual).flatten())) for individual in population]\n",
    "\n",
    "            # Track the best individual\n",
    "            current_best_energy = min(energies)\n",
    "            if current_best_energy < best_energy:\n",
    "                best_individual = population[np.argmin(energies)]\n",
    "                best_energy = current_best_energy\n",
    "\n",
    "            energy_history.append(current_best_energy)\n",
    "\n",
    "            # Early exit if the energy does not improve for several iterations\n",
    "            if step > 10 and np.all(np.abs(np.diff(energy_history[-10:])) < 1e-20):\n",
    "                self.v = self.ActivationOutput(best_individual)\n",
    "                self.Check()\n",
    "                if(self.constraint_tag == 1):\n",
    "                    break\n",
    "\n",
    "        return energy_history, best_individual, best_energy"
   ]
  },
  {
   "cell_type": "code",
   "execution_count": 54,
   "id": "5050dd5d",
   "metadata": {},
   "outputs": [],
   "source": [
    "## Mock data for MSC-L-C\n",
    "L_input_msc = np.array([[2,2,0,0]])\n",
    "M_input_lab = np.array([[1,0,1,0]])\n",
    "R_input = np.eye(4)\n",
    "#R_input = np.zeros((4,4))\n",
    "#R_input = np.diag((0,0,1,1))\n",
    "n_array = np.array([2,2])\n",
    "num_teacher = 4\n",
    "num_msclass = 1\n",
    "num_lab = 1\n",
    "num_class = 4\n",
    "num_period = 4\n",
    "\n",
    "HNN = HopfieldMSCLCT(num_teacher,num_msclass,num_lab,num_class,num_period,L_input_msc,M_input_lab,n_array,R_input,A=1,B=1,G=1,D=1,F=1)"
   ]
  },
  {
   "cell_type": "code",
   "execution_count": 55,
   "id": "633d6c42",
   "metadata": {},
   "outputs": [
    {
     "name": "stdout",
     "output_type": "stream",
     "text": [
      "*******************************************************\n",
      "\n",
      "*******************  All is pass  *********************\n",
      "\n",
      "*******************************************************\n",
      "\n",
      "The solution is:\n",
      "M =  [[-0.  1. -0.  1.]]\n",
      "n =  [[2]]\n"
     ]
    },
    {
     "data": {
      "text/plain": [
       "1"
      ]
     },
     "execution_count": 55,
     "metadata": {},
     "output_type": "execute_result"
    }
   ],
   "source": [
    "HNN.OptimiseRequirement_MSC(10000)\n",
    "HNN.constraint_tag_MSC"
   ]
  },
  {
   "cell_type": "code",
   "execution_count": 56,
   "id": "b26531fa",
   "metadata": {},
   "outputs": [
    {
     "name": "stdout",
     "output_type": "stream",
     "text": [
      "*******************************************************\n",
      "\n",
      "*******************  All is pass  *********************\n",
      "\n",
      "*******************************************************\n",
      "\n",
      "The solution is:\n",
      "L =  [[1. 1. 1. 1.]]\n",
      "n =  [[2]]\n"
     ]
    },
    {
     "data": {
      "text/plain": [
       "1"
      ]
     },
     "execution_count": 56,
     "metadata": {},
     "output_type": "execute_result"
    }
   ],
   "source": [
    "HNN.OptimiseRequirement_L(10000)\n",
    "HNN.constraint_tag_L"
   ]
  },
  {
   "cell_type": "code",
   "execution_count": 57,
   "id": "8c163b76",
   "metadata": {},
   "outputs": [
    {
     "data": {
      "text/plain": [
       "array([[-0.,  1., -0.,  1.],\n",
       "       [ 1.,  0.,  1.,  0.]])"
      ]
     },
     "execution_count": 57,
     "metadata": {},
     "output_type": "execute_result"
    }
   ],
   "source": [
    "HNN.Mak"
   ]
  },
  {
   "cell_type": "code",
   "execution_count": 58,
   "id": "301ddc15",
   "metadata": {},
   "outputs": [
    {
     "data": {
      "text/plain": [
       "array([[2., 2., 0., 0.],\n",
       "       [1., 1., 1., 1.]])"
      ]
     },
     "execution_count": 58,
     "metadata": {},
     "output_type": "execute_result"
    }
   ],
   "source": [
    "HNN.Laj"
   ]
  },
  {
   "cell_type": "code",
   "execution_count": 59,
   "id": "e43470e9",
   "metadata": {},
   "outputs": [
    {
     "name": "stdout",
     "output_type": "stream",
     "text": [
      "Adam took 3.273879051208496 seconds\n",
      "Tabu took 5.080020904541016 seconds\n",
      "*******************************************************\n",
      "\n",
      "*******************  All is pass  *********************\n",
      "\n",
      "*******************************************************\n",
      "\n",
      "Comparing constraints (Column)\n",
      " [[ True  True  True  True]\n",
      " [ True  True  True  True]\n",
      " [ True  True  True  True]\n",
      " [ True  True  True  True]]\n",
      "Comparing constraints (L)\n",
      " [[ True  True  True  True]\n",
      " [ True  True  True  True]]\n",
      "Comparing constraints (row)\n",
      " [[ True  True  True  True]\n",
      " [ True  True  True  True]]\n",
      "Comparing constraints (R)\n",
      " [[ True  True  True  True]\n",
      " [ True  True  True  True]\n",
      " [ True  True  True  True]\n",
      " [ True  True  True  True]]\n",
      "Comparing constraints (row)\n",
      " [[ True  True  True  True]\n",
      " [ True  True  True  True]\n",
      " [ True  True  True  True]\n",
      " [ True  True  True  True]]\n",
      "Laj:  [[2. 2. 0. 0.]\n",
      " [1. 1. 1. 1.]]\n",
      "Raj:  [[1. 0. 0. 0.]\n",
      " [0. 1. 0. 0.]\n",
      " [0. 0. 1. 0.]\n",
      " [0. 0. 0. 1.]]\n",
      "Sum i:  [[1. 1. 1. 1.]\n",
      " [1. 1. 1. 1.]\n",
      " [1. 0. 0. 1.]\n",
      " [1. 0. 1. 0.]]\n",
      "Sum j lab:  [[0. 2. 0. 2.]\n",
      " [2. 0. 2. 0.]]\n",
      "Sum k lab:  [[2. 2. 0. 0.]\n",
      " [1. 1. 1. 1.]]\n",
      "Sum j lab:  [[1. 0. 0. 0.]\n",
      " [0. 0. 1. 0.]\n",
      " [0. 0. 0. 1.]\n",
      " [1. 0. 0. 0.]]\n",
      "Sum k lab:  [[1. 0. 0. 0.]\n",
      " [0. 1. 0. 0.]\n",
      " [0. 0. 1. 0.]\n",
      " [0. 0. 0. 1.]]\n",
      "The state is: [[[0. 1. 0. 1.]\n",
      "  [0. 1. 0. 1.]\n",
      "  [0. 0. 0. 0.]\n",
      "  [0. 0. 0. 0.]]\n",
      "\n",
      " [[0. 0. 1. 0.]\n",
      "  [1. 0. 0. 0.]\n",
      "  [1. 0. 0. 0.]\n",
      "  [0. 0. 1. 0.]]\n",
      "\n",
      " [[1. 0. 0. 0.]\n",
      "  [0. 0. 0. 0.]\n",
      "  [0. 0. 0. 0.]\n",
      "  [0. 0. 0. 0.]]\n",
      "\n",
      " [[0. 0. 0. 0.]\n",
      "  [0. 0. 1. 0.]\n",
      "  [0. 0. 0. 0.]\n",
      "  [0. 0. 0. 0.]]\n",
      "\n",
      " [[0. 0. 0. 0.]\n",
      "  [0. 0. 0. 0.]\n",
      "  [0. 0. 0. 1.]\n",
      "  [0. 0. 0. 0.]]\n",
      "\n",
      " [[0. 0. 0. 0.]\n",
      "  [0. 0. 0. 0.]\n",
      "  [0. 0. 0. 0.]\n",
      "  [1. 0. 0. 0.]]]\n",
      "GA took 7.931309223175049 seconds\n"
     ]
    },
    {
     "data": {
      "image/png": "[encoded data removed]",
      "text/plain": [
       "<Figure size 640x480 with 1 Axes>"
      ]
     },
     "metadata": {},
     "output_type": "display_data"
    }
   ],
   "source": [
    "# Run Hopfield Neural Network optimization\n",
    "\n",
    "# Run Adam\n",
    "start = time.time()\n",
    "adam_energy_history, adam_best_solution, adam_best_energy = HNN.AdamOptimizer(num_steps=10000)\n",
    "end = time.time()\n",
    "print(f\"Adam took {end - start} seconds\")\n",
    "\n",
    "# Run Tabu Search\n",
    "start = time.time()\n",
    "tabu_energy_history, tabu_best_solution, tabu_best_energy = HNN.TabuSearch(num_steps=10000)\n",
    "end = time.time()\n",
    "print(f\"Tabu took {end - start} seconds\")\n",
    "\n",
    "# Run Genetic Algorithm\n",
    "start = time.time()\n",
    "ga_energy_history, ga_best_solution, ga_best_energy = HNN.GeneticAlgorithm(num_steps=10000)\n",
    "end = time.time()\n",
    "print(f\"GA took {end - start} seconds\")\n",
    "\n",
    "# Plot the energy histories to compare performance\n",
    "import matplotlib.pyplot as plt\n",
    "\n",
    "plt.plot(adam_energy_history, label='Hopfield + Adam')\n",
    "plt.plot(tabu_energy_history, label='Hopfield + Tabu Search')\n",
    "plt.plot(ga_energy_history, label='Hopfield + Genetic Algorithm')\n",
    "plt.xlabel('Iterations')\n",
    "plt.ylabel('Energy')\n",
    "plt.title('Energy Comparison')\n",
    "plt.xlim(0,min(len(adam_energy_history),len(tabu_energy_history),len(ga_energy_history)))\n",
    "plt.legend()\n",
    "plt.show()\n"
   ]
  },
  {
   "cell_type": "code",
   "execution_count": 37,
   "id": "908f578e",
   "metadata": {},
   "outputs": [
    {
     "data": {
      "image/png": "[encoded data removed]",
      "text/plain": [
       "<Figure size 1000x600 with 1 Axes>"
      ]
     },
     "metadata": {},
     "output_type": "display_data"
    }
   ],
   "source": [
    "plt.figure(figsize=(10, 6))\n",
    "Emin = ga_best_energy\n",
    "t = min(len(adam_energy_history),len(tabu_energy_history),len(ga_energy_history))\n",
    "plt.plot(adam_energy_history - Emin, label='Hopfield + Adam',linewidth=2)\n",
    "plt.plot(tabu_energy_history - Emin, label='Hopfield + Tabu Search',linewidth=2,linestyle=':')\n",
    "plt.plot(ga_energy_history - Emin, label='Hopfield + Genetic Algorithm',linewidth=2,linestyle='-.')\n",
    "plt.xlabel('Iterations',fontsize=16)\n",
    "plt.ylabel('Energy',fontsize=16)\n",
    "plt.title('Energy Comparison (Combined Class Scheduling)',fontsize=16)\n",
    "plt.legend(fontsize=14)\n",
    "plt.xticks(fontsize=12)\n",
    "plt.yticks(fontsize=12)\n",
    "# plt.xlim(0,len(tabu_energy_history)-1)\n",
    "# plt.xlim(0,t-1)\n",
    "# plt.yscale('log')\n",
    "\n",
    "plt.show()"
   ]
  },
  {
   "cell_type": "code",
   "execution_count": 61,
   "id": "fb442f1c",
   "metadata": {},
   "outputs": [
    {
     "data": {
      "text/plain": [
       "-12.5"
      ]
     },
     "execution_count": 61,
     "metadata": {},
     "output_type": "execute_result"
    }
   ],
   "source": [
    "adam_best_energy"
   ]
  },
  {
   "cell_type": "code",
   "execution_count": 62,
   "id": "43d06e75",
   "metadata": {},
   "outputs": [
    {
     "data": {
      "text/plain": [
       "-15.0"
      ]
     },
     "execution_count": 62,
     "metadata": {},
     "output_type": "execute_result"
    }
   ],
   "source": [
    "tabu_best_energy"
   ]
  },
  {
   "cell_type": "code",
   "execution_count": 60,
   "id": "8b6dd034",
   "metadata": {},
   "outputs": [
    {
     "data": {
      "text/plain": [
       "-16.0"
      ]
     },
     "execution_count": 60,
     "metadata": {},
     "output_type": "execute_result"
    }
   ],
   "source": [
    "ga_best_energy"
   ]
  },
  {
   "cell_type": "code",
   "execution_count": 41,
   "id": "f18d0fbf",
   "metadata": {},
   "outputs": [],
   "source": [
    "## Let's work from adam solution\n",
    "u = adam_best_solution\n",
    "v = HNN.ActivationOutput(adam_best_solution)\n",
    "Laj = HNN.Laj\n",
    "Mak = HNN.Mak\n",
    "Raj = HNN.Raj\n",
    "prev_state = {'u':u, 'v':v, 'Laj':Laj, 'Mak':Mak}"
   ]
  },
  {
   "cell_type": "code",
   "execution_count": 42,
   "id": "c5f2348f",
   "metadata": {},
   "outputs": [
    {
     "name": "stdout",
     "output_type": "stream",
     "text": [
      "Loading from previous state.\n"
     ]
    }
   ],
   "source": [
    "HNN_continued = HopfieldMSCLCT(num_teacher,num_msclass,num_lab,num_class,num_period,L_input_msc,M_input_lab,n_array,R_input,A=1,B=1,G=1,D=1,F=1,prev_state=prev_state)"
   ]
  },
  {
   "cell_type": "code",
   "execution_count": 43,
   "id": "97e792e0",
   "metadata": {},
   "outputs": [
    {
     "data": {
      "text/plain": [
       "-10.0"
      ]
     },
     "execution_count": 43,
     "metadata": {},
     "output_type": "execute_result"
    }
   ],
   "source": [
    "HNN.Energy(tuple(v.flatten()))"
   ]
  },
  {
   "cell_type": "code",
   "execution_count": 44,
   "id": "cd1d87f5",
   "metadata": {},
   "outputs": [
    {
     "name": "stdout",
     "output_type": "stream",
     "text": [
      "Adam took 3.007519006729126 seconds\n",
      "Tabu took 5.5193798542022705 seconds\n",
      "GA took 47.10659980773926 seconds\n"
     ]
    },
    {
     "data": {
      "image/png": "[encoded data removed]",
      "text/plain": [
       "<Figure size 640x480 with 1 Axes>"
      ]
     },
     "metadata": {},
     "output_type": "display_data"
    }
   ],
   "source": [
    "# Run Hopfield Neural Network optimization\n",
    "\n",
    "# Run Adam\n",
    "start = time.time()\n",
    "adam_energy_history, adam_best_solution, adam_best_energy = HNN.AdamOptimizer(num_steps=10000)\n",
    "end = time.time()\n",
    "print(f\"Adam took {end - start} seconds\")\n",
    "\n",
    "# Run Tabu Search\n",
    "start = time.time()\n",
    "tabu_energy_history, tabu_best_solution, tabu_best_energy = HNN.TabuSearch(num_steps=10000)\n",
    "end = time.time()\n",
    "print(f\"Tabu took {end - start} seconds\")\n",
    "\n",
    "# Run Genetic Algorithm\n",
    "start = time.time()\n",
    "ga_energy_history, ga_best_solution, ga_best_energy = HNN.GeneticAlgorithm(num_steps=10000)\n",
    "end = time.time()\n",
    "print(f\"GA took {end - start} seconds\")\n",
    "\n",
    "# Plot the energy histories to compare performance\n",
    "import matplotlib.pyplot as plt\n",
    "\n",
    "plt.plot(adam_energy_history, label='Hopfield + Adam')\n",
    "plt.plot(tabu_energy_history, label='Hopfield + Tabu Search')\n",
    "plt.plot(ga_energy_history, label='Hopfield + Genetic Algorithm')\n",
    "plt.xlabel('Iterations')\n",
    "plt.ylabel('Energy')\n",
    "plt.title('Energy Comparison')\n",
    "plt.xlim(0,min(len(adam_energy_history),len(tabu_energy_history),len(ga_energy_history)))\n",
    "plt.legend()\n",
    "plt.show()\n"
   ]
  },
  {
   "cell_type": "code",
   "execution_count": 45,
   "id": "7d16826a",
   "metadata": {},
   "outputs": [
    {
     "name": "stdout",
     "output_type": "stream",
     "text": [
      "[-5.0, -5.5, -6.5, -6.5, -6.5, -6.5, -6.5, -6.5, -6.5, -6.5]\n"
     ]
    }
   ],
   "source": [
    "print(ga_energy_history[:10])"
   ]
  },
  {
   "cell_type": "code",
   "execution_count": 27,
   "id": "1a5ce3c7",
   "metadata": {},
   "outputs": [
    {
     "data": {
      "text/plain": [
       "-12.0"
      ]
     },
     "execution_count": 27,
     "metadata": {},
     "output_type": "execute_result"
    }
   ],
   "source": [
    "adam_best_energy"
   ]
  },
  {
   "cell_type": "code",
   "execution_count": 28,
   "id": "92e665a0",
   "metadata": {},
   "outputs": [
    {
     "data": {
      "text/plain": [
       "-12.0"
      ]
     },
     "execution_count": 28,
     "metadata": {},
     "output_type": "execute_result"
    }
   ],
   "source": [
    "HNN.Energy(tuple(HNN.ActivationOutput(adam_best_solution).flatten()))"
   ]
  },
  {
   "cell_type": "code",
   "execution_count": 101,
   "id": "f5de18b5",
   "metadata": {},
   "outputs": [],
   "source": [
    "## Let's work from GA solution\n",
    "u = ga_best_solution\n",
    "v = HNN.ActivationOutput(ga_best_solution)\n",
    "Laj = HNN.Laj\n",
    "Mak = HNN.Mak\n",
    "Raj = HNN.Raj\n",
    "prev_state = {'u':u, 'v':v, 'Laj':Laj, 'Mak':Mak}"
   ]
  },
  {
   "cell_type": "code",
   "execution_count": 102,
   "id": "19b4ac9d",
   "metadata": {},
   "outputs": [
    {
     "name": "stdout",
     "output_type": "stream",
     "text": [
      "Loading from previous state.\n"
     ]
    }
   ],
   "source": [
    "HNN_continued = HopfieldMSCLCT(num_teacher,num_msclass,num_lab,num_class,num_period,L_input_msc,M_input_lab,n_array,R_input,A=1,B=1,G=1,D=1,F=1,prev_state=prev_state)"
   ]
  },
  {
   "cell_type": "code",
   "execution_count": 103,
   "id": "acf90aea",
   "metadata": {},
   "outputs": [
    {
     "name": "stdout",
     "output_type": "stream",
     "text": [
      "Adam took 3.2822909355163574 seconds\n",
      "Tabu took 4.962079048156738 seconds\n",
      "GA took 31.43937611579895 seconds\n"
     ]
    },
    {
     "data": {
      "image/png": "[encoded data removed]",
      "text/plain": [
       "<Figure size 640x480 with 1 Axes>"
      ]
     },
     "metadata": {},
     "output_type": "display_data"
    }
   ],
   "source": [
    "# Run Hopfield Neural Network optimization\n",
    "\n",
    "# Run Adam\n",
    "start = time.time()\n",
    "adam_energy_history, adam_best_solution, adam_best_energy = HNN.AdamOptimizer(num_steps=10000)\n",
    "end = time.time()\n",
    "print(f\"Adam took {end - start} seconds\")\n",
    "\n",
    "# Run Tabu Search\n",
    "start = time.time()\n",
    "tabu_energy_history, tabu_best_solution, tabu_best_energy = HNN.TabuSearch(num_steps=10000)\n",
    "end = time.time()\n",
    "print(f\"Tabu took {end - start} seconds\")\n",
    "\n",
    "# Run Genetic Algorithm\n",
    "start = time.time()\n",
    "ga_energy_history, ga_best_solution, ga_best_energy = HNN.GeneticAlgorithm(num_steps=10000)\n",
    "end = time.time()\n",
    "print(f\"GA took {end - start} seconds\")\n",
    "\n",
    "# Plot the energy histories to compare performance\n",
    "import matplotlib.pyplot as plt\n",
    "\n",
    "plt.plot(adam_energy_history, label='Hopfield + Adam')\n",
    "plt.plot(tabu_energy_history, label='Hopfield + Tabu Search')\n",
    "plt.plot(ga_energy_history, label='Hopfield + Genetic Algorithm')\n",
    "plt.xlabel('Iterations')\n",
    "plt.ylabel('Energy')\n",
    "plt.title('Energy Comparison')\n",
    "plt.xlim(0,min(len(adam_energy_history),len(tabu_energy_history),len(ga_energy_history)))\n",
    "plt.legend()\n",
    "plt.show()\n"
   ]
  },
  {
   "cell_type": "code",
   "execution_count": null,
   "id": "90809d78",
   "metadata": {},
   "outputs": [],
   "source": []
  }
 ],
 "metadata": {
  "kernelspec": {
   "display_name": "Python 3 (ipykernel)",
   "language": "python",
   "name": "python3"
  },
  "language_info": {
   "codemirror_mode": {
    "name": "ipython",
    "version": 3
   },
   "file_extension": ".py",
   "mimetype": "text/x-python",
   "name": "python",
   "nbconvert_exporter": "python",
   "pygments_lexer": "ipython3",
   "version": "3.10.8"
  }
 },
 "nbformat": 4,
 "nbformat_minor": 5
}
